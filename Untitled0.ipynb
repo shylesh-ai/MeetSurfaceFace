{
  "nbformat": 4,
  "nbformat_minor": 0,
  "metadata": {
    "colab": {
      "name": "Untitled0.ipynb",
      "provenance": [],
      "collapsed_sections": [],
      "authorship_tag": "ABX9TyMyvBY9xI1t5R6pa3viDKtl",
      "include_colab_link": true
    },
    "kernelspec": {
      "name": "python3",
      "display_name": "Python 3"
    },
    "language_info": {
      "name": "python"
    }
  },
  "cells": [
    {
      "cell_type": "markdown",
      "metadata": {
        "id": "view-in-github",
        "colab_type": "text"
      },
      "source": [
        "<a href=\"https://colab.research.google.com/github/shylesh-ai/MeetSurfaceFace/blob/main/Untitled0.ipynb\" target=\"_parent\"><img src=\"https://colab.research.google.com/assets/colab-badge.svg\" alt=\"Open In Colab\"/></a>"
      ]
    },
    {
      "cell_type": "code",
      "metadata": {
        "id": "eDpWuFa7Er6H"
      },
      "source": [
        "import pandas as pd\n"
      ],
      "execution_count": 5,
      "outputs": []
    },
    {
      "cell_type": "code",
      "metadata": {
        "colab": {
          "base_uri": "https://localhost:8080/",
          "height": 370
        },
        "id": "PIibQCWlGU3F",
        "outputId": "22ad0edb-cd80-47a4-8047-e94711803f66"
      },
      "source": [
        "train=pd.read_csv('/content/drive/My Drive/data science/data science1/trainset.csv')"
      ],
      "execution_count": 6,
      "outputs": [
        {
          "output_type": "error",
          "ename": "FileNotFoundError",
          "evalue": "ignored",
          "traceback": [
            "\u001b[0;31m---------------------------------------------------------------------------\u001b[0m",
            "\u001b[0;31mFileNotFoundError\u001b[0m                         Traceback (most recent call last)",
            "\u001b[0;32m<ipython-input-6-c7e15853b62e>\u001b[0m in \u001b[0;36m<module>\u001b[0;34m()\u001b[0m\n\u001b[0;32m----> 1\u001b[0;31m \u001b[0mtrain\u001b[0m\u001b[0;34m=\u001b[0m\u001b[0mpd\u001b[0m\u001b[0;34m.\u001b[0m\u001b[0mread_csv\u001b[0m\u001b[0;34m(\u001b[0m\u001b[0;34m'/content/drive/My Drive/data science/data science1/trainset.csv'\u001b[0m\u001b[0;34m)\u001b[0m\u001b[0;34m\u001b[0m\u001b[0;34m\u001b[0m\u001b[0m\n\u001b[0m",
            "\u001b[0;32m/usr/local/lib/python3.7/dist-packages/pandas/io/parsers.py\u001b[0m in \u001b[0;36mread_csv\u001b[0;34m(filepath_or_buffer, sep, delimiter, header, names, index_col, usecols, squeeze, prefix, mangle_dupe_cols, dtype, engine, converters, true_values, false_values, skipinitialspace, skiprows, skipfooter, nrows, na_values, keep_default_na, na_filter, verbose, skip_blank_lines, parse_dates, infer_datetime_format, keep_date_col, date_parser, dayfirst, cache_dates, iterator, chunksize, compression, thousands, decimal, lineterminator, quotechar, quoting, doublequote, escapechar, comment, encoding, dialect, error_bad_lines, warn_bad_lines, delim_whitespace, low_memory, memory_map, float_precision)\u001b[0m\n\u001b[1;32m    686\u001b[0m     )\n\u001b[1;32m    687\u001b[0m \u001b[0;34m\u001b[0m\u001b[0m\n\u001b[0;32m--> 688\u001b[0;31m     \u001b[0;32mreturn\u001b[0m \u001b[0m_read\u001b[0m\u001b[0;34m(\u001b[0m\u001b[0mfilepath_or_buffer\u001b[0m\u001b[0;34m,\u001b[0m \u001b[0mkwds\u001b[0m\u001b[0;34m)\u001b[0m\u001b[0;34m\u001b[0m\u001b[0;34m\u001b[0m\u001b[0m\n\u001b[0m\u001b[1;32m    689\u001b[0m \u001b[0;34m\u001b[0m\u001b[0m\n\u001b[1;32m    690\u001b[0m \u001b[0;34m\u001b[0m\u001b[0m\n",
            "\u001b[0;32m/usr/local/lib/python3.7/dist-packages/pandas/io/parsers.py\u001b[0m in \u001b[0;36m_read\u001b[0;34m(filepath_or_buffer, kwds)\u001b[0m\n\u001b[1;32m    452\u001b[0m \u001b[0;34m\u001b[0m\u001b[0m\n\u001b[1;32m    453\u001b[0m     \u001b[0;31m# Create the parser.\u001b[0m\u001b[0;34m\u001b[0m\u001b[0;34m\u001b[0m\u001b[0;34m\u001b[0m\u001b[0m\n\u001b[0;32m--> 454\u001b[0;31m     \u001b[0mparser\u001b[0m \u001b[0;34m=\u001b[0m \u001b[0mTextFileReader\u001b[0m\u001b[0;34m(\u001b[0m\u001b[0mfp_or_buf\u001b[0m\u001b[0;34m,\u001b[0m \u001b[0;34m**\u001b[0m\u001b[0mkwds\u001b[0m\u001b[0;34m)\u001b[0m\u001b[0;34m\u001b[0m\u001b[0;34m\u001b[0m\u001b[0m\n\u001b[0m\u001b[1;32m    455\u001b[0m \u001b[0;34m\u001b[0m\u001b[0m\n\u001b[1;32m    456\u001b[0m     \u001b[0;32mif\u001b[0m \u001b[0mchunksize\u001b[0m \u001b[0;32mor\u001b[0m \u001b[0miterator\u001b[0m\u001b[0;34m:\u001b[0m\u001b[0;34m\u001b[0m\u001b[0;34m\u001b[0m\u001b[0m\n",
            "\u001b[0;32m/usr/local/lib/python3.7/dist-packages/pandas/io/parsers.py\u001b[0m in \u001b[0;36m__init__\u001b[0;34m(self, f, engine, **kwds)\u001b[0m\n\u001b[1;32m    946\u001b[0m             \u001b[0mself\u001b[0m\u001b[0;34m.\u001b[0m\u001b[0moptions\u001b[0m\u001b[0;34m[\u001b[0m\u001b[0;34m\"has_index_names\"\u001b[0m\u001b[0;34m]\u001b[0m \u001b[0;34m=\u001b[0m \u001b[0mkwds\u001b[0m\u001b[0;34m[\u001b[0m\u001b[0;34m\"has_index_names\"\u001b[0m\u001b[0;34m]\u001b[0m\u001b[0;34m\u001b[0m\u001b[0;34m\u001b[0m\u001b[0m\n\u001b[1;32m    947\u001b[0m \u001b[0;34m\u001b[0m\u001b[0m\n\u001b[0;32m--> 948\u001b[0;31m         \u001b[0mself\u001b[0m\u001b[0;34m.\u001b[0m\u001b[0m_make_engine\u001b[0m\u001b[0;34m(\u001b[0m\u001b[0mself\u001b[0m\u001b[0;34m.\u001b[0m\u001b[0mengine\u001b[0m\u001b[0;34m)\u001b[0m\u001b[0;34m\u001b[0m\u001b[0;34m\u001b[0m\u001b[0m\n\u001b[0m\u001b[1;32m    949\u001b[0m \u001b[0;34m\u001b[0m\u001b[0m\n\u001b[1;32m    950\u001b[0m     \u001b[0;32mdef\u001b[0m \u001b[0mclose\u001b[0m\u001b[0;34m(\u001b[0m\u001b[0mself\u001b[0m\u001b[0;34m)\u001b[0m\u001b[0;34m:\u001b[0m\u001b[0;34m\u001b[0m\u001b[0;34m\u001b[0m\u001b[0m\n",
            "\u001b[0;32m/usr/local/lib/python3.7/dist-packages/pandas/io/parsers.py\u001b[0m in \u001b[0;36m_make_engine\u001b[0;34m(self, engine)\u001b[0m\n\u001b[1;32m   1178\u001b[0m     \u001b[0;32mdef\u001b[0m \u001b[0m_make_engine\u001b[0m\u001b[0;34m(\u001b[0m\u001b[0mself\u001b[0m\u001b[0;34m,\u001b[0m \u001b[0mengine\u001b[0m\u001b[0;34m=\u001b[0m\u001b[0;34m\"c\"\u001b[0m\u001b[0;34m)\u001b[0m\u001b[0;34m:\u001b[0m\u001b[0;34m\u001b[0m\u001b[0;34m\u001b[0m\u001b[0m\n\u001b[1;32m   1179\u001b[0m         \u001b[0;32mif\u001b[0m \u001b[0mengine\u001b[0m \u001b[0;34m==\u001b[0m \u001b[0;34m\"c\"\u001b[0m\u001b[0;34m:\u001b[0m\u001b[0;34m\u001b[0m\u001b[0;34m\u001b[0m\u001b[0m\n\u001b[0;32m-> 1180\u001b[0;31m             \u001b[0mself\u001b[0m\u001b[0;34m.\u001b[0m\u001b[0m_engine\u001b[0m \u001b[0;34m=\u001b[0m \u001b[0mCParserWrapper\u001b[0m\u001b[0;34m(\u001b[0m\u001b[0mself\u001b[0m\u001b[0;34m.\u001b[0m\u001b[0mf\u001b[0m\u001b[0;34m,\u001b[0m \u001b[0;34m**\u001b[0m\u001b[0mself\u001b[0m\u001b[0;34m.\u001b[0m\u001b[0moptions\u001b[0m\u001b[0;34m)\u001b[0m\u001b[0;34m\u001b[0m\u001b[0;34m\u001b[0m\u001b[0m\n\u001b[0m\u001b[1;32m   1181\u001b[0m         \u001b[0;32melse\u001b[0m\u001b[0;34m:\u001b[0m\u001b[0;34m\u001b[0m\u001b[0;34m\u001b[0m\u001b[0m\n\u001b[1;32m   1182\u001b[0m             \u001b[0;32mif\u001b[0m \u001b[0mengine\u001b[0m \u001b[0;34m==\u001b[0m \u001b[0;34m\"python\"\u001b[0m\u001b[0;34m:\u001b[0m\u001b[0;34m\u001b[0m\u001b[0;34m\u001b[0m\u001b[0m\n",
            "\u001b[0;32m/usr/local/lib/python3.7/dist-packages/pandas/io/parsers.py\u001b[0m in \u001b[0;36m__init__\u001b[0;34m(self, src, **kwds)\u001b[0m\n\u001b[1;32m   2008\u001b[0m         \u001b[0mkwds\u001b[0m\u001b[0;34m[\u001b[0m\u001b[0;34m\"usecols\"\u001b[0m\u001b[0;34m]\u001b[0m \u001b[0;34m=\u001b[0m \u001b[0mself\u001b[0m\u001b[0;34m.\u001b[0m\u001b[0musecols\u001b[0m\u001b[0;34m\u001b[0m\u001b[0;34m\u001b[0m\u001b[0m\n\u001b[1;32m   2009\u001b[0m \u001b[0;34m\u001b[0m\u001b[0m\n\u001b[0;32m-> 2010\u001b[0;31m         \u001b[0mself\u001b[0m\u001b[0;34m.\u001b[0m\u001b[0m_reader\u001b[0m \u001b[0;34m=\u001b[0m \u001b[0mparsers\u001b[0m\u001b[0;34m.\u001b[0m\u001b[0mTextReader\u001b[0m\u001b[0;34m(\u001b[0m\u001b[0msrc\u001b[0m\u001b[0;34m,\u001b[0m \u001b[0;34m**\u001b[0m\u001b[0mkwds\u001b[0m\u001b[0;34m)\u001b[0m\u001b[0;34m\u001b[0m\u001b[0;34m\u001b[0m\u001b[0m\n\u001b[0m\u001b[1;32m   2011\u001b[0m         \u001b[0mself\u001b[0m\u001b[0;34m.\u001b[0m\u001b[0munnamed_cols\u001b[0m \u001b[0;34m=\u001b[0m \u001b[0mself\u001b[0m\u001b[0;34m.\u001b[0m\u001b[0m_reader\u001b[0m\u001b[0;34m.\u001b[0m\u001b[0munnamed_cols\u001b[0m\u001b[0;34m\u001b[0m\u001b[0;34m\u001b[0m\u001b[0m\n\u001b[1;32m   2012\u001b[0m \u001b[0;34m\u001b[0m\u001b[0m\n",
            "\u001b[0;32mpandas/_libs/parsers.pyx\u001b[0m in \u001b[0;36mpandas._libs.parsers.TextReader.__cinit__\u001b[0;34m()\u001b[0m\n",
            "\u001b[0;32mpandas/_libs/parsers.pyx\u001b[0m in \u001b[0;36mpandas._libs.parsers.TextReader._setup_parser_source\u001b[0;34m()\u001b[0m\n",
            "\u001b[0;31mFileNotFoundError\u001b[0m: [Errno 2] No such file or directory: '/content/drive/My Drive/data science/data science1/trainset.csv'"
          ]
        }
      ]
    },
    {
      "cell_type": "code",
      "metadata": {
        "id": "So4AvrVKG1P3"
      },
      "source": [
        "from google.colab import drive"
      ],
      "execution_count": 8,
      "outputs": []
    },
    {
      "cell_type": "code",
      "metadata": {
        "colab": {
          "base_uri": "https://localhost:8080/"
        },
        "id": "_gxd-QyAG_kb",
        "outputId": "bfde1bc3-5bb2-47ab-f380-8c525814cdb1"
      },
      "source": [
        "drive.mount('/content/drive')"
      ],
      "execution_count": 9,
      "outputs": [
        {
          "output_type": "stream",
          "text": [
            "Mounted at /content/drive\n"
          ],
          "name": "stdout"
        }
      ]
    },
    {
      "cell_type": "code",
      "metadata": {
        "id": "aEKABTN7HLg9"
      },
      "source": [
        "train=pd.read_csv('/content/drive/My Drive/data science/data science1/trainset.csv')"
      ],
      "execution_count": 11,
      "outputs": []
    },
    {
      "cell_type": "code",
      "metadata": {
        "colab": {
          "base_uri": "https://localhost:8080/"
        },
        "id": "gvKndkGBHO_d",
        "outputId": "6ec36d6a-c2e4-48f4-94e7-bed01fff68c7"
      },
      "source": [
        "trainset = train.iloc[:,1:2].values\n",
        "trainset\n"
      ],
      "execution_count": 12,
      "outputs": [
        {
          "output_type": "execute_result",
          "data": {
            "text/plain": [
              "array([[ 357.385559],\n",
              "       [ 360.122742],\n",
              "       [ 362.313507],\n",
              "       ...,\n",
              "       [1057.390015],\n",
              "       [1051.599976],\n",
              "       [1046.719971]])"
            ]
          },
          "metadata": {
            "tags": []
          },
          "execution_count": 12
        }
      ]
    },
    {
      "cell_type": "code",
      "metadata": {
        "colab": {
          "base_uri": "https://localhost:8080/"
        },
        "id": "miF_-x58HUgX",
        "outputId": "93a33ff2-7e3f-4c1f-f060-e261e11f446d"
      },
      "source": [
        "from sklearn.preprocessing import MinMaxScaler\n",
        "sc = MinMaxScaler(feature_range = (0,1))\n",
        "training_scaled = sc.fit_transform(trainset)\n",
        "training_scaled"
      ],
      "execution_count": 13,
      "outputs": [
        {
          "output_type": "execute_result",
          "data": {
            "text/plain": [
              "array([[0.01011148],\n",
              "       [0.01388614],\n",
              "       [0.01690727],\n",
              "       ...,\n",
              "       [0.97543954],\n",
              "       [0.9674549 ],\n",
              "       [0.96072522]])"
            ]
          },
          "metadata": {
            "tags": []
          },
          "execution_count": 13
        }
      ]
    },
    {
      "cell_type": "code",
      "metadata": {
        "colab": {
          "base_uri": "https://localhost:8080/",
          "height": 212
        },
        "id": "ZqspBt_HHa1H",
        "outputId": "f4e3b976-6387-4410-e578-af7348297075"
      },
      "source": [
        "x_train = []\n",
        "y_train = []\n",
        "for i in range(60,1259):\n",
        "    x_train.append(training_scaled[i-60:i, 0])\n",
        "    y_train.append(training_scaled[i,0])\n",
        "x_train,y_train = np.array(x_train),np.array(y_train)\n",
        "x_train.shape"
      ],
      "execution_count": 14,
      "outputs": [
        {
          "output_type": "error",
          "ename": "NameError",
          "evalue": "ignored",
          "traceback": [
            "\u001b[0;31m---------------------------------------------------------------------------\u001b[0m",
            "\u001b[0;31mNameError\u001b[0m                                 Traceback (most recent call last)",
            "\u001b[0;32m<ipython-input-14-1b3583b307b6>\u001b[0m in \u001b[0;36m<module>\u001b[0;34m()\u001b[0m\n\u001b[1;32m      4\u001b[0m     \u001b[0mx_train\u001b[0m\u001b[0;34m.\u001b[0m\u001b[0mappend\u001b[0m\u001b[0;34m(\u001b[0m\u001b[0mtraining_scaled\u001b[0m\u001b[0;34m[\u001b[0m\u001b[0mi\u001b[0m\u001b[0;34m-\u001b[0m\u001b[0;36m60\u001b[0m\u001b[0;34m:\u001b[0m\u001b[0mi\u001b[0m\u001b[0;34m,\u001b[0m \u001b[0;36m0\u001b[0m\u001b[0;34m]\u001b[0m\u001b[0;34m)\u001b[0m\u001b[0;34m\u001b[0m\u001b[0;34m\u001b[0m\u001b[0m\n\u001b[1;32m      5\u001b[0m     \u001b[0my_train\u001b[0m\u001b[0;34m.\u001b[0m\u001b[0mappend\u001b[0m\u001b[0;34m(\u001b[0m\u001b[0mtraining_scaled\u001b[0m\u001b[0;34m[\u001b[0m\u001b[0mi\u001b[0m\u001b[0;34m,\u001b[0m\u001b[0;36m0\u001b[0m\u001b[0;34m]\u001b[0m\u001b[0;34m)\u001b[0m\u001b[0;34m\u001b[0m\u001b[0;34m\u001b[0m\u001b[0m\n\u001b[0;32m----> 6\u001b[0;31m \u001b[0mx_train\u001b[0m\u001b[0;34m,\u001b[0m\u001b[0my_train\u001b[0m \u001b[0;34m=\u001b[0m \u001b[0mnp\u001b[0m\u001b[0;34m.\u001b[0m\u001b[0marray\u001b[0m\u001b[0;34m(\u001b[0m\u001b[0mx_train\u001b[0m\u001b[0;34m)\u001b[0m\u001b[0;34m,\u001b[0m\u001b[0mnp\u001b[0m\u001b[0;34m.\u001b[0m\u001b[0marray\u001b[0m\u001b[0;34m(\u001b[0m\u001b[0my_train\u001b[0m\u001b[0;34m)\u001b[0m\u001b[0;34m\u001b[0m\u001b[0;34m\u001b[0m\u001b[0m\n\u001b[0m\u001b[1;32m      7\u001b[0m \u001b[0mx_train\u001b[0m\u001b[0;34m.\u001b[0m\u001b[0mshape\u001b[0m\u001b[0;34m\u001b[0m\u001b[0;34m\u001b[0m\u001b[0m\n",
            "\u001b[0;31mNameError\u001b[0m: name 'np' is not defined"
          ]
        }
      ]
    },
    {
      "cell_type": "code",
      "metadata": {
        "id": "65AK1roYHgAH"
      },
      "source": [
        "import numpy as np # linear algebra\n",
        "import matplotlib.pyplot as plt"
      ],
      "execution_count": 15,
      "outputs": []
    },
    {
      "cell_type": "code",
      "metadata": {
        "colab": {
          "base_uri": "https://localhost:8080/"
        },
        "id": "GIJeET1uHl1t",
        "outputId": "92073ec0-080f-4e3a-d7b4-c6de556f759a"
      },
      "source": [
        "x_train = []\n",
        "y_train = []\n",
        "for i in range(60,1259):\n",
        "    x_train.append(training_scaled[i-60:i, 0])\n",
        "    y_train.append(training_scaled[i,0])\n",
        "x_train,y_train = np.array(x_train),np.array(y_train)\n",
        "x_train.shape"
      ],
      "execution_count": 16,
      "outputs": [
        {
          "output_type": "execute_result",
          "data": {
            "text/plain": [
              "(1199, 60)"
            ]
          },
          "metadata": {
            "tags": []
          },
          "execution_count": 16
        }
      ]
    },
    {
      "cell_type": "code",
      "metadata": {
        "id": "EKgvqZi2HomJ"
      },
      "source": [
        "x_train = np.reshape(x_train, (x_train.shape[0],x_train.shape[1],1))"
      ],
      "execution_count": 17,
      "outputs": []
    },
    {
      "cell_type": "code",
      "metadata": {
        "id": "Xv3Jp1VxHtCH"
      },
      "source": [
        "from keras.models import Sequential\n",
        "from keras.layers import Dense\n",
        "from keras.layers import LSTM\n",
        "from keras.layers import Dropout"
      ],
      "execution_count": 18,
      "outputs": []
    },
    {
      "cell_type": "code",
      "metadata": {
        "id": "qklYPKEcHurB"
      },
      "source": [
        "regressor = Sequential()"
      ],
      "execution_count": 19,
      "outputs": []
    },
    {
      "cell_type": "code",
      "metadata": {
        "id": "JYEWgwEmHygh"
      },
      "source": [
        "regressor.add(LSTM(units = 50,return_sequences = True,input_shape = (x_train.shape[1],1)))"
      ],
      "execution_count": 20,
      "outputs": []
    },
    {
      "cell_type": "code",
      "metadata": {
        "id": "qb6ZUkYpH10p"
      },
      "source": [
        "regressor.add(Dropout(0.2))\n",
        "regressor.add(LSTM(units = 50,return_sequences = True))\n",
        "regressor.add(Dropout(0.2))\n",
        "regressor.add(LSTM(units = 50,return_sequences = True))\n",
        "regressor.add(Dropout(0.2))\n",
        "regressor.add(LSTM(units = 50))\n",
        "regressor.add(Dropout(0.2))"
      ],
      "execution_count": 21,
      "outputs": []
    },
    {
      "cell_type": "code",
      "metadata": {
        "colab": {
          "base_uri": "https://localhost:8080/"
        },
        "id": "mSV-nkWRH6fl",
        "outputId": "158aa11f-8ca3-4f74-ecad-5196b0372ffb"
      },
      "source": [
        "regressor.add(Dense(units = 1))\n",
        "regressor.compile(optimizer = 'adam',loss = 'mean_squared_error')\n",
        "regressor.fit(x_train,y_train,epochs = 100, batch_size = 32)"
      ],
      "execution_count": 23,
      "outputs": [
        {
          "output_type": "stream",
          "text": [
            "Epoch 1/100\n",
            "38/38 [==============================] - 11s 119ms/step - loss: 0.0110\n",
            "Epoch 2/100\n",
            "38/38 [==============================] - 5s 121ms/step - loss: 0.0031\n",
            "Epoch 3/100\n",
            "38/38 [==============================] - 4s 118ms/step - loss: 0.0027\n",
            "Epoch 4/100\n",
            "38/38 [==============================] - 5s 124ms/step - loss: 0.0031\n",
            "Epoch 5/100\n",
            "38/38 [==============================] - 5s 121ms/step - loss: 0.0028\n",
            "Epoch 6/100\n",
            "38/38 [==============================] - 5s 121ms/step - loss: 0.0025\n",
            "Epoch 7/100\n",
            "38/38 [==============================] - 5s 122ms/step - loss: 0.0023\n",
            "Epoch 8/100\n",
            "38/38 [==============================] - 5s 124ms/step - loss: 0.0025\n",
            "Epoch 9/100\n",
            "38/38 [==============================] - 5s 121ms/step - loss: 0.0023\n",
            "Epoch 10/100\n",
            "38/38 [==============================] - 5s 124ms/step - loss: 0.0027\n",
            "Epoch 11/100\n",
            "38/38 [==============================] - 5s 124ms/step - loss: 0.0026\n",
            "Epoch 12/100\n",
            "38/38 [==============================] - 5s 123ms/step - loss: 0.0025\n",
            "Epoch 13/100\n",
            "38/38 [==============================] - 5s 123ms/step - loss: 0.0022\n",
            "Epoch 14/100\n",
            "38/38 [==============================] - 5s 122ms/step - loss: 0.0021\n",
            "Epoch 15/100\n",
            "38/38 [==============================] - 5s 128ms/step - loss: 0.0021\n",
            "Epoch 16/100\n",
            "38/38 [==============================] - 5s 124ms/step - loss: 0.0020\n",
            "Epoch 17/100\n",
            "38/38 [==============================] - 5s 123ms/step - loss: 0.0019\n",
            "Epoch 18/100\n",
            "38/38 [==============================] - 5s 122ms/step - loss: 0.0020\n",
            "Epoch 19/100\n",
            "38/38 [==============================] - 5s 122ms/step - loss: 0.0019\n",
            "Epoch 20/100\n",
            "38/38 [==============================] - 5s 124ms/step - loss: 0.0018\n",
            "Epoch 21/100\n",
            "38/38 [==============================] - 5s 126ms/step - loss: 0.0018\n",
            "Epoch 22/100\n",
            "38/38 [==============================] - 5s 126ms/step - loss: 0.0022\n",
            "Epoch 23/100\n",
            "38/38 [==============================] - 5s 129ms/step - loss: 0.0022\n",
            "Epoch 24/100\n",
            "38/38 [==============================] - 5s 126ms/step - loss: 0.0020\n",
            "Epoch 25/100\n",
            "38/38 [==============================] - 5s 125ms/step - loss: 0.0015\n",
            "Epoch 26/100\n",
            "38/38 [==============================] - 5s 123ms/step - loss: 0.0018\n",
            "Epoch 27/100\n",
            "38/38 [==============================] - 5s 129ms/step - loss: 0.0017\n",
            "Epoch 28/100\n",
            "38/38 [==============================] - 5s 123ms/step - loss: 0.0019\n",
            "Epoch 29/100\n",
            "38/38 [==============================] - 5s 125ms/step - loss: 0.0015\n",
            "Epoch 30/100\n",
            "38/38 [==============================] - 5s 127ms/step - loss: 0.0015\n",
            "Epoch 31/100\n",
            "38/38 [==============================] - 5s 124ms/step - loss: 0.0013\n",
            "Epoch 32/100\n",
            "38/38 [==============================] - 5s 129ms/step - loss: 0.0015\n",
            "Epoch 33/100\n",
            "38/38 [==============================] - 5s 127ms/step - loss: 0.0013\n",
            "Epoch 34/100\n",
            "38/38 [==============================] - 5s 125ms/step - loss: 0.0015\n",
            "Epoch 35/100\n",
            "38/38 [==============================] - 5s 127ms/step - loss: 0.0015\n",
            "Epoch 36/100\n",
            "38/38 [==============================] - 5s 124ms/step - loss: 0.0013\n",
            "Epoch 37/100\n",
            "38/38 [==============================] - 5s 126ms/step - loss: 0.0013\n",
            "Epoch 38/100\n",
            "38/38 [==============================] - 5s 124ms/step - loss: 0.0014\n",
            "Epoch 39/100\n",
            "38/38 [==============================] - 5s 123ms/step - loss: 0.0012\n",
            "Epoch 40/100\n",
            "38/38 [==============================] - 5s 126ms/step - loss: 0.0013\n",
            "Epoch 41/100\n",
            "38/38 [==============================] - 5s 123ms/step - loss: 0.0012\n",
            "Epoch 42/100\n",
            "38/38 [==============================] - 5s 126ms/step - loss: 0.0014\n",
            "Epoch 43/100\n",
            "38/38 [==============================] - 5s 126ms/step - loss: 0.0011\n",
            "Epoch 44/100\n",
            "38/38 [==============================] - 5s 123ms/step - loss: 0.0015\n",
            "Epoch 45/100\n",
            "38/38 [==============================] - 5s 121ms/step - loss: 0.0012\n",
            "Epoch 46/100\n",
            "38/38 [==============================] - 5s 128ms/step - loss: 0.0013\n",
            "Epoch 47/100\n",
            "38/38 [==============================] - 5s 125ms/step - loss: 0.0013\n",
            "Epoch 48/100\n",
            "38/38 [==============================] - 5s 123ms/step - loss: 0.0011\n",
            "Epoch 49/100\n",
            "38/38 [==============================] - 5s 127ms/step - loss: 0.0011\n",
            "Epoch 50/100\n",
            "38/38 [==============================] - 5s 123ms/step - loss: 0.0012\n",
            "Epoch 51/100\n",
            "38/38 [==============================] - 5s 126ms/step - loss: 0.0011\n",
            "Epoch 52/100\n",
            "38/38 [==============================] - 5s 128ms/step - loss: 0.0011\n",
            "Epoch 53/100\n",
            "38/38 [==============================] - 5s 128ms/step - loss: 0.0013\n",
            "Epoch 54/100\n",
            "38/38 [==============================] - 5s 129ms/step - loss: 0.0013\n",
            "Epoch 55/100\n",
            "38/38 [==============================] - 5s 125ms/step - loss: 0.0016\n",
            "Epoch 56/100\n",
            "38/38 [==============================] - 5s 124ms/step - loss: 0.0012\n",
            "Epoch 57/100\n",
            "38/38 [==============================] - 5s 125ms/step - loss: 0.0011\n",
            "Epoch 58/100\n",
            "38/38 [==============================] - 5s 126ms/step - loss: 0.0011\n",
            "Epoch 59/100\n",
            "38/38 [==============================] - 5s 126ms/step - loss: 0.0011\n",
            "Epoch 60/100\n",
            "38/38 [==============================] - 5s 126ms/step - loss: 9.7698e-04\n",
            "Epoch 61/100\n",
            "38/38 [==============================] - 5s 127ms/step - loss: 8.7667e-04\n",
            "Epoch 62/100\n",
            "38/38 [==============================] - 5s 127ms/step - loss: 0.0012\n",
            "Epoch 63/100\n",
            "38/38 [==============================] - 5s 125ms/step - loss: 9.2780e-04\n",
            "Epoch 64/100\n",
            "38/38 [==============================] - 5s 126ms/step - loss: 8.2600e-04\n",
            "Epoch 65/100\n",
            "38/38 [==============================] - 5s 127ms/step - loss: 8.8931e-04\n",
            "Epoch 66/100\n",
            "38/38 [==============================] - 5s 127ms/step - loss: 8.3423e-04\n",
            "Epoch 67/100\n",
            "38/38 [==============================] - 5s 131ms/step - loss: 8.6489e-04\n",
            "Epoch 68/100\n",
            "38/38 [==============================] - 5s 130ms/step - loss: 0.0010\n",
            "Epoch 69/100\n",
            "38/38 [==============================] - 5s 125ms/step - loss: 0.0011\n",
            "Epoch 70/100\n",
            "38/38 [==============================] - 5s 126ms/step - loss: 9.9848e-04\n",
            "Epoch 71/100\n",
            "38/38 [==============================] - 5s 130ms/step - loss: 9.7770e-04\n",
            "Epoch 72/100\n",
            "38/38 [==============================] - 5s 129ms/step - loss: 8.9706e-04\n",
            "Epoch 73/100\n",
            "38/38 [==============================] - 5s 126ms/step - loss: 8.5539e-04\n",
            "Epoch 74/100\n",
            "38/38 [==============================] - 5s 130ms/step - loss: 7.7402e-04\n",
            "Epoch 75/100\n",
            "38/38 [==============================] - 5s 127ms/step - loss: 8.1056e-04\n",
            "Epoch 76/100\n",
            "38/38 [==============================] - 5s 126ms/step - loss: 8.2943e-04\n",
            "Epoch 77/100\n",
            "38/38 [==============================] - 5s 131ms/step - loss: 0.0010\n",
            "Epoch 78/100\n",
            "38/38 [==============================] - 5s 125ms/step - loss: 9.3663e-04\n",
            "Epoch 79/100\n",
            "38/38 [==============================] - 5s 129ms/step - loss: 9.9880e-04\n",
            "Epoch 80/100\n",
            "38/38 [==============================] - 5s 135ms/step - loss: 7.7199e-04\n",
            "Epoch 81/100\n",
            "38/38 [==============================] - 5s 130ms/step - loss: 9.5334e-04\n",
            "Epoch 82/100\n",
            "38/38 [==============================] - 5s 128ms/step - loss: 8.7870e-04\n",
            "Epoch 83/100\n",
            "38/38 [==============================] - 5s 130ms/step - loss: 8.3305e-04\n",
            "Epoch 84/100\n",
            "38/38 [==============================] - 5s 130ms/step - loss: 7.8600e-04\n",
            "Epoch 85/100\n",
            "38/38 [==============================] - 5s 134ms/step - loss: 8.3027e-04\n",
            "Epoch 86/100\n",
            "38/38 [==============================] - 5s 142ms/step - loss: 8.4513e-04\n",
            "Epoch 87/100\n",
            "38/38 [==============================] - 5s 131ms/step - loss: 9.0834e-04\n",
            "Epoch 88/100\n",
            "38/38 [==============================] - 5s 132ms/step - loss: 7.7763e-04\n",
            "Epoch 89/100\n",
            "38/38 [==============================] - 5s 134ms/step - loss: 8.8652e-04\n",
            "Epoch 90/100\n",
            "38/38 [==============================] - 5s 130ms/step - loss: 0.0010\n",
            "Epoch 91/100\n",
            "38/38 [==============================] - 5s 131ms/step - loss: 8.6379e-04\n",
            "Epoch 92/100\n",
            "38/38 [==============================] - 5s 132ms/step - loss: 7.8802e-04\n",
            "Epoch 93/100\n",
            "38/38 [==============================] - 5s 127ms/step - loss: 7.4969e-04\n",
            "Epoch 94/100\n",
            "38/38 [==============================] - 5s 130ms/step - loss: 7.5295e-04\n",
            "Epoch 95/100\n",
            "38/38 [==============================] - 5s 130ms/step - loss: 8.1398e-04\n",
            "Epoch 96/100\n",
            "38/38 [==============================] - 5s 131ms/step - loss: 0.0012\n",
            "Epoch 97/100\n",
            "38/38 [==============================] - 5s 129ms/step - loss: 7.8593e-04\n",
            "Epoch 98/100\n",
            "38/38 [==============================] - 5s 134ms/step - loss: 8.0977e-04\n",
            "Epoch 99/100\n",
            "38/38 [==============================] - 5s 130ms/step - loss: 8.1444e-04\n",
            "Epoch 100/100\n",
            "38/38 [==============================] - 5s 132ms/step - loss: 7.6690e-04\n"
          ],
          "name": "stdout"
        },
        {
          "output_type": "execute_result",
          "data": {
            "text/plain": [
              "<tensorflow.python.keras.callbacks.History at 0x7feba123b410>"
            ]
          },
          "metadata": {
            "tags": []
          },
          "execution_count": 23
        }
      ]
    },
    {
      "cell_type": "code",
      "metadata": {
        "id": "yyxcGyYzKa5s"
      },
      "source": [
        "test =pd.read_csv(\"/content/drive/My Drive/data science/data science1/testset.csv\")\n"
      ],
      "execution_count": 24,
      "outputs": []
    },
    {
      "cell_type": "code",
      "metadata": {
        "colab": {
          "base_uri": "https://localhost:8080/"
        },
        "id": "iAvXkc9NKiPE",
        "outputId": "e1ecb830-7501-4fbf-c488-eee8e4916c8c"
      },
      "source": [
        "real_stock_price = test.iloc[:,1:2].values\n",
        "dataset_total = pd.concat((train['Open'],test['Open']),axis = 0)\n",
        "dataset_total"
      ],
      "execution_count": 25,
      "outputs": [
        {
          "output_type": "execute_result",
          "data": {
            "text/plain": [
              "0       357.385559\n",
              "1       360.122742\n",
              "2       362.313507\n",
              "3       365.348755\n",
              "4       365.393463\n",
              "          ...     \n",
              "120    1143.599976\n",
              "121    1128.000000\n",
              "122    1121.339966\n",
              "123    1102.089966\n",
              "124    1120.000000\n",
              "Name: Open, Length: 1384, dtype: float64"
            ]
          },
          "metadata": {
            "tags": []
          },
          "execution_count": 25
        }
      ]
    },
    {
      "cell_type": "code",
      "metadata": {
        "colab": {
          "base_uri": "https://localhost:8080/"
        },
        "id": "SqkPzHkZKsvZ",
        "outputId": "58f3af95-78e6-4537-93b1-2a88c61113e1"
      },
      "source": [
        "inputs = dataset_total[len(dataset_total) - len(test)-60:].values\n",
        "inputs\n"
      ],
      "execution_count": 27,
      "outputs": [
        {
          "output_type": "execute_result",
          "data": {
            "text/plain": [
              "array([ 955.48999 ,  966.700012,  980.      ,  980.      ,  973.719971,\n",
              "        987.450012,  992.      ,  992.099976,  990.289978,  991.77002 ,\n",
              "        986.      ,  989.440002,  989.52002 ,  970.      ,  968.369995,\n",
              "        980.      , 1009.190002, 1014.      , 1015.219971, 1017.210022,\n",
              "       1021.76001 , 1022.109985, 1028.98999 , 1027.27002 , 1030.52002 ,\n",
              "       1033.98999 , 1026.459961, 1023.419983, 1022.590027, 1019.210022,\n",
              "       1022.52002 , 1034.01001 , 1020.26001 , 1023.309998, 1035.      ,\n",
              "       1035.869995, 1040.      , 1055.089966, 1042.680054, 1022.369995,\n",
              "       1015.799988, 1012.659973,  995.940002, 1001.5     , 1020.429993,\n",
              "       1037.48999 , 1035.5     , 1039.630005, 1046.119995, 1045.      ,\n",
              "       1054.609985, 1066.079956, 1075.199951, 1071.780029, 1064.949951,\n",
              "       1061.109985, 1058.069946, 1057.390015, 1051.599976, 1046.719971,\n",
              "       1048.339966, 1064.310059, 1088.      , 1094.      , 1102.22998 ,\n",
              "       1109.400024, 1097.099976, 1106.300049, 1102.410034, 1132.51001 ,\n",
              "       1126.219971, 1131.410034, 1131.829956, 1137.48999 , 1159.849976,\n",
              "       1177.329956, 1172.530029, 1175.079956, 1176.47998 , 1167.829956,\n",
              "       1170.569946, 1162.609985, 1122.      , 1090.599976, 1027.180054,\n",
              "       1081.540039, 1055.410034, 1017.25    , 1048.      , 1045.      ,\n",
              "       1048.949951, 1079.069946, 1088.410034, 1090.569946, 1106.469971,\n",
              "       1116.189941, 1112.640015, 1127.800049, 1141.23999 , 1123.030029,\n",
              "       1107.869995, 1053.079956, 1075.140015, 1099.219971, 1089.189941,\n",
              "       1115.319946, 1136.      , 1163.849976, 1170.      , 1145.209961,\n",
              "       1149.959961, 1154.140015, 1120.01001 , 1099.      , 1092.73999 ,\n",
              "       1081.880005, 1047.030029, 1046.      , 1063.      ,  998.      ,\n",
              "       1011.630005, 1022.820007, 1013.909973,  993.409973, 1041.329956,\n",
              "       1020.      , 1016.799988, 1026.439941, 1027.98999 , 1025.040039,\n",
              "       1040.880005, 1037.      , 1051.369995, 1077.430054, 1069.400024,\n",
              "       1082.      , 1077.859985, 1052.      , 1025.52002 , 1029.51001 ,\n",
              "       1046.      , 1030.01001 , 1013.659973, 1028.099976, 1019.      ,\n",
              "       1016.900024, 1049.22998 , 1058.540039, 1058.099976, 1086.030029,\n",
              "       1093.599976, 1100.      , 1090.      , 1077.310059, 1079.890015,\n",
              "       1061.859985, 1074.060059, 1083.560059, 1065.130005, 1079.      ,\n",
              "       1079.02002 , 1064.890015, 1063.030029, 1067.560059, 1099.349976,\n",
              "       1122.329956, 1140.98999 , 1142.170044, 1131.319946, 1118.180054,\n",
              "       1118.599976, 1131.069946, 1141.119995, 1143.849976, 1148.859985,\n",
              "       1143.650024, 1158.5     , 1175.310059, 1174.849976, 1159.140015,\n",
              "       1143.599976, 1128.      , 1121.339966, 1102.089966, 1120.      ])"
            ]
          },
          "metadata": {
            "tags": []
          },
          "execution_count": 27
        }
      ]
    },
    {
      "cell_type": "code",
      "metadata": {
        "colab": {
          "base_uri": "https://localhost:8080/"
        },
        "id": "OSu36ynfK5xb",
        "outputId": "d5fc1f12-1a30-4883-8016-a8209e45b32f"
      },
      "source": [
        "inputs = inputs.reshape(-1,1)\n",
        "inputs\n"
      ],
      "execution_count": 28,
      "outputs": [
        {
          "output_type": "execute_result",
          "data": {
            "text/plain": [
              "array([[ 955.48999 ],\n",
              "       [ 966.700012],\n",
              "       [ 980.      ],\n",
              "       [ 980.      ],\n",
              "       [ 973.719971],\n",
              "       [ 987.450012],\n",
              "       [ 992.      ],\n",
              "       [ 992.099976],\n",
              "       [ 990.289978],\n",
              "       [ 991.77002 ],\n",
              "       [ 986.      ],\n",
              "       [ 989.440002],\n",
              "       [ 989.52002 ],\n",
              "       [ 970.      ],\n",
              "       [ 968.369995],\n",
              "       [ 980.      ],\n",
              "       [1009.190002],\n",
              "       [1014.      ],\n",
              "       [1015.219971],\n",
              "       [1017.210022],\n",
              "       [1021.76001 ],\n",
              "       [1022.109985],\n",
              "       [1028.98999 ],\n",
              "       [1027.27002 ],\n",
              "       [1030.52002 ],\n",
              "       [1033.98999 ],\n",
              "       [1026.459961],\n",
              "       [1023.419983],\n",
              "       [1022.590027],\n",
              "       [1019.210022],\n",
              "       [1022.52002 ],\n",
              "       [1034.01001 ],\n",
              "       [1020.26001 ],\n",
              "       [1023.309998],\n",
              "       [1035.      ],\n",
              "       [1035.869995],\n",
              "       [1040.      ],\n",
              "       [1055.089966],\n",
              "       [1042.680054],\n",
              "       [1022.369995],\n",
              "       [1015.799988],\n",
              "       [1012.659973],\n",
              "       [ 995.940002],\n",
              "       [1001.5     ],\n",
              "       [1020.429993],\n",
              "       [1037.48999 ],\n",
              "       [1035.5     ],\n",
              "       [1039.630005],\n",
              "       [1046.119995],\n",
              "       [1045.      ],\n",
              "       [1054.609985],\n",
              "       [1066.079956],\n",
              "       [1075.199951],\n",
              "       [1071.780029],\n",
              "       [1064.949951],\n",
              "       [1061.109985],\n",
              "       [1058.069946],\n",
              "       [1057.390015],\n",
              "       [1051.599976],\n",
              "       [1046.719971],\n",
              "       [1048.339966],\n",
              "       [1064.310059],\n",
              "       [1088.      ],\n",
              "       [1094.      ],\n",
              "       [1102.22998 ],\n",
              "       [1109.400024],\n",
              "       [1097.099976],\n",
              "       [1106.300049],\n",
              "       [1102.410034],\n",
              "       [1132.51001 ],\n",
              "       [1126.219971],\n",
              "       [1131.410034],\n",
              "       [1131.829956],\n",
              "       [1137.48999 ],\n",
              "       [1159.849976],\n",
              "       [1177.329956],\n",
              "       [1172.530029],\n",
              "       [1175.079956],\n",
              "       [1176.47998 ],\n",
              "       [1167.829956],\n",
              "       [1170.569946],\n",
              "       [1162.609985],\n",
              "       [1122.      ],\n",
              "       [1090.599976],\n",
              "       [1027.180054],\n",
              "       [1081.540039],\n",
              "       [1055.410034],\n",
              "       [1017.25    ],\n",
              "       [1048.      ],\n",
              "       [1045.      ],\n",
              "       [1048.949951],\n",
              "       [1079.069946],\n",
              "       [1088.410034],\n",
              "       [1090.569946],\n",
              "       [1106.469971],\n",
              "       [1116.189941],\n",
              "       [1112.640015],\n",
              "       [1127.800049],\n",
              "       [1141.23999 ],\n",
              "       [1123.030029],\n",
              "       [1107.869995],\n",
              "       [1053.079956],\n",
              "       [1075.140015],\n",
              "       [1099.219971],\n",
              "       [1089.189941],\n",
              "       [1115.319946],\n",
              "       [1136.      ],\n",
              "       [1163.849976],\n",
              "       [1170.      ],\n",
              "       [1145.209961],\n",
              "       [1149.959961],\n",
              "       [1154.140015],\n",
              "       [1120.01001 ],\n",
              "       [1099.      ],\n",
              "       [1092.73999 ],\n",
              "       [1081.880005],\n",
              "       [1047.030029],\n",
              "       [1046.      ],\n",
              "       [1063.      ],\n",
              "       [ 998.      ],\n",
              "       [1011.630005],\n",
              "       [1022.820007],\n",
              "       [1013.909973],\n",
              "       [ 993.409973],\n",
              "       [1041.329956],\n",
              "       [1020.      ],\n",
              "       [1016.799988],\n",
              "       [1026.439941],\n",
              "       [1027.98999 ],\n",
              "       [1025.040039],\n",
              "       [1040.880005],\n",
              "       [1037.      ],\n",
              "       [1051.369995],\n",
              "       [1077.430054],\n",
              "       [1069.400024],\n",
              "       [1082.      ],\n",
              "       [1077.859985],\n",
              "       [1052.      ],\n",
              "       [1025.52002 ],\n",
              "       [1029.51001 ],\n",
              "       [1046.      ],\n",
              "       [1030.01001 ],\n",
              "       [1013.659973],\n",
              "       [1028.099976],\n",
              "       [1019.      ],\n",
              "       [1016.900024],\n",
              "       [1049.22998 ],\n",
              "       [1058.540039],\n",
              "       [1058.099976],\n",
              "       [1086.030029],\n",
              "       [1093.599976],\n",
              "       [1100.      ],\n",
              "       [1090.      ],\n",
              "       [1077.310059],\n",
              "       [1079.890015],\n",
              "       [1061.859985],\n",
              "       [1074.060059],\n",
              "       [1083.560059],\n",
              "       [1065.130005],\n",
              "       [1079.      ],\n",
              "       [1079.02002 ],\n",
              "       [1064.890015],\n",
              "       [1063.030029],\n",
              "       [1067.560059],\n",
              "       [1099.349976],\n",
              "       [1122.329956],\n",
              "       [1140.98999 ],\n",
              "       [1142.170044],\n",
              "       [1131.319946],\n",
              "       [1118.180054],\n",
              "       [1118.599976],\n",
              "       [1131.069946],\n",
              "       [1141.119995],\n",
              "       [1143.849976],\n",
              "       [1148.859985],\n",
              "       [1143.650024],\n",
              "       [1158.5     ],\n",
              "       [1175.310059],\n",
              "       [1174.849976],\n",
              "       [1159.140015],\n",
              "       [1143.599976],\n",
              "       [1128.      ],\n",
              "       [1121.339966],\n",
              "       [1102.089966],\n",
              "       [1120.      ]])"
            ]
          },
          "metadata": {
            "tags": []
          },
          "execution_count": 28
        }
      ]
    },
    {
      "cell_type": "code",
      "metadata": {
        "colab": {
          "base_uri": "https://localhost:8080/"
        },
        "id": "sE_n2GFYK9Rr",
        "outputId": "2215496b-fdaf-4272-c23d-1cbf7f556336"
      },
      "source": [
        "inputs = sc.transform(inputs)\n",
        "inputs.shape"
      ],
      "execution_count": 29,
      "outputs": [
        {
          "output_type": "execute_result",
          "data": {
            "text/plain": [
              "(185, 1)"
            ]
          },
          "metadata": {
            "tags": []
          },
          "execution_count": 29
        }
      ]
    },
    {
      "cell_type": "code",
      "metadata": {
        "colab": {
          "base_uri": "https://localhost:8080/"
        },
        "id": "uYZt_muLK_4B",
        "outputId": "230f60a3-f88b-4333-b5b2-0dcbab5ae79d"
      },
      "source": [
        "x_test = []\n",
        "for i in range(60,185):\n",
        "    x_test.append(inputs[i-60:i,0])\n",
        "x_test = np.array(x_test)\n",
        "x_test.shape"
      ],
      "execution_count": 30,
      "outputs": [
        {
          "output_type": "execute_result",
          "data": {
            "text/plain": [
              "(125, 60)"
            ]
          },
          "metadata": {
            "tags": []
          },
          "execution_count": 30
        }
      ]
    },
    {
      "cell_type": "code",
      "metadata": {
        "colab": {
          "base_uri": "https://localhost:8080/"
        },
        "id": "ZhNwGKFJLDFf",
        "outputId": "ad55ddde-67ef-4b5a-b758-498418bd7d11"
      },
      "source": [
        "x_test = np.reshape(x_test, (x_test.shape[0],x_test.shape[1],1))\n",
        "x_test.shape\n"
      ],
      "execution_count": 31,
      "outputs": [
        {
          "output_type": "execute_result",
          "data": {
            "text/plain": [
              "(125, 60, 1)"
            ]
          },
          "metadata": {
            "tags": []
          },
          "execution_count": 31
        }
      ]
    },
    {
      "cell_type": "code",
      "metadata": {
        "colab": {
          "base_uri": "https://localhost:8080/"
        },
        "id": "AmxGvB9xLFhb",
        "outputId": "0c59180a-5e0f-4319-a9e2-ece344ea0c69"
      },
      "source": [
        "predicted_price = regressor.predict(x_test)\n",
        "predicted_price = sc.inverse_transform(predicted_price)\n",
        "predicted_price"
      ],
      "execution_count": 32,
      "outputs": [
        {
          "output_type": "execute_result",
          "data": {
            "text/plain": [
              "array([[1042.0189 ],\n",
              "       [1040.9559 ],\n",
              "       [1046.3464 ],\n",
              "       [1059.126  ],\n",
              "       [1069.7565 ],\n",
              "       [1077.2028 ],\n",
              "       [1082.7479 ],\n",
              "       [1081.3947 ],\n",
              "       [1082.1653 ],\n",
              "       [1082.647  ],\n",
              "       [1093.2062 ],\n",
              "       [1100.0743 ],\n",
              "       [1104.4843 ],\n",
              "       [1106.7743 ],\n",
              "       [1109.6943 ],\n",
              "       [1119.0712 ],\n",
              "       [1131.7155 ],\n",
              "       [1137.9188 ],\n",
              "       [1140.6761 ],\n",
              "       [1142.3328 ],\n",
              "       [1140.9318 ],\n",
              "       [1140.8473 ],\n",
              "       [1139.3822 ],\n",
              "       [1126.2749 ],\n",
              "       [1106.4669 ],\n",
              "       [1074.4423 ],\n",
              "       [1069.3301 ],\n",
              "       [1067.6731 ],\n",
              "       [1053.6405 ],\n",
              "       [1050.5354 ],\n",
              "       [1051.0361 ],\n",
              "       [1052.0808 ],\n",
              "       [1061.6129 ],\n",
              "       [1071.5309 ],\n",
              "       [1076.6478 ],\n",
              "       [1082.808  ],\n",
              "       [1089.6252 ],\n",
              "       [1092.3514 ],\n",
              "       [1097.8862 ],\n",
              "       [1106.5497 ],\n",
              "       [1106.5205 ],\n",
              "       [1099.6312 ],\n",
              "       [1077.206  ],\n",
              "       [1067.6022 ],\n",
              "       [1075.3597 ],\n",
              "       [1081.0157 ],\n",
              "       [1091.0671 ],\n",
              "       [1104.1234 ],\n",
              "       [1120.2881 ],\n",
              "       [1131.1833 ],\n",
              "       [1127.6803 ],\n",
              "       [1123.8949 ],\n",
              "       [1124.09   ],\n",
              "       [1115.3207 ],\n",
              "       [1101.9049 ],\n",
              "       [1091.9229 ],\n",
              "       [1084.5111 ],\n",
              "       [1070.0133 ],\n",
              "       [1058.9181 ],\n",
              "       [1059.26   ],\n",
              "       [1041.2745 ],\n",
              "       [1028.1227 ],\n",
              "       [1026.2657 ],\n",
              "       [1024.8721 ],\n",
              "       [1015.9198 ],\n",
              "       [1023.81866],\n",
              "       [1025.9154 ],\n",
              "       [1022.6016 ],\n",
              "       [1022.05035],\n",
              "       [1023.0099 ],\n",
              "       [1022.59216],\n",
              "       [1027.1467 ],\n",
              "       [1029.8053 ],\n",
              "       [1035.3127 ],\n",
              "       [1048.1659 ],\n",
              "       [1054.3308 ],\n",
              "       [1059.7598 ],\n",
              "       [1061.4655 ],\n",
              "       [1052.93   ],\n",
              "       [1036.8165 ],\n",
              "       [1027.6221 ],\n",
              "       [1031.1257 ],\n",
              "       [1031.4418 ],\n",
              "       [1024.4324 ],\n",
              "       [1023.0202 ],\n",
              "       [1020.9438 ],\n",
              "       [1018.2131 ],\n",
              "       [1027.3153 ],\n",
              "       [1038.8269 ],\n",
              "       [1044.7614 ],\n",
              "       [1055.5577 ],\n",
              "       [1065.4567 ],\n",
              "       [1072.5703 ],\n",
              "       [1072.567  ],\n",
              "       [1066.8776 ],\n",
              "       [1063.8187 ],\n",
              "       [1057.7854 ],\n",
              "       [1058.0833 ],\n",
              "       [1063.8597 ],\n",
              "       [1062.4084 ],\n",
              "       [1063.889  ],\n",
              "       [1065.8262 ],\n",
              "       [1062.1469 ],\n",
              "       [1057.7656 ],\n",
              "       [1056.8923 ],\n",
              "       [1068.1682 ],\n",
              "       [1085.256  ],\n",
              "       [1101.5452 ],\n",
              "       [1110.0858 ],\n",
              "       [1109.2196 ],\n",
              "       [1102.5782 ],\n",
              "       [1098.3978 ],\n",
              "       [1101.8004 ],\n",
              "       [1109.58   ],\n",
              "       [1116.029  ],\n",
              "       [1120.8684 ],\n",
              "       [1121.634  ],\n",
              "       [1125.8895 ],\n",
              "       [1134.779  ],\n",
              "       [1140.7668 ],\n",
              "       [1138.5427 ],\n",
              "       [1130.8018 ],\n",
              "       [1120.8848 ],\n",
              "       [1113.3507 ],\n",
              "       [1104.325  ]], dtype=float32)"
            ]
          },
          "metadata": {
            "tags": []
          },
          "execution_count": 32
        }
      ]
    },
    {
      "cell_type": "code",
      "metadata": {
        "colab": {
          "base_uri": "https://localhost:8080/",
          "height": 295
        },
        "id": "MWGlP-OcLSSn",
        "outputId": "34a0b133-357d-4f85-f36c-1038dfc20cde"
      },
      "source": [
        "plt.plot(real_stock_price,color = 'red', label = 'Real Price')\n",
        "plt.plot(predicted_price, color = 'blue', label = 'Predicted Price')\n",
        "plt.title('Google Stock Price Prediction')\n",
        "plt.xlabel('Time')\n",
        "plt.ylabel('Google Stock Price')\n",
        "plt.legend()\n",
        "plt.show()"
      ],
      "execution_count": 33,
      "outputs": [
        {
          "output_type": "display_data",
          "data": {
            "image/png": "[encoded data removed]",
            "text/plain": [
              "<Figure size 432x288 with 1 Axes>"
            ]
          },
          "metadata": {
            "tags": [],
            "needs_background": "light"
          }
        }
      ]
    },
    {
      "cell_type": "code",
      "metadata": {
        "id": "u5zjTDcdLUQf"
      },
      "source": [
        ""
      ],
      "execution_count": null,
      "outputs": []
    }
  ]
}